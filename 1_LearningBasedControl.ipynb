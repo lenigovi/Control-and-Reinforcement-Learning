{
 "cells": [
  {
   "cell_type": "code",
   "execution_count": 1,
   "metadata": {},
   "outputs": [],
   "source": [
    "import numpy as np\n",
    "from scipy.optimize import fsolve"
   ]
  },
  {
   "cell_type": "markdown",
   "metadata": {},
   "source": [
    "# Reinforcement Learning and Learning Based Control\n",
    "\n",
    "Reinforcement learning in Control Theory is a paradigm that lets an agent learn optimal decision-making strategies by iteratively exploring its environment and receiving feedback in the form of rewards or punishments. Learning Based Control determines a stabilizing controller from input-output data.\n",
    "\n"
   ]
  },
  {
   "cell_type": "markdown",
   "metadata": {},
   "source": [
    "# Markov Decision Process\n",
    "Markov Decision Process (MDP) mathematically models decision-making under uncertainty. MDPs consist a set of states, set of actions, a deterministic or stochastic transition model, a reward or cost function.\n",
    "\n",
    "Definitions in MDP\n",
    "\n",
    "1. State Space: $x \\in X$ or $s \\in S$. In robotics, state can represent the pose as an example.\n",
    "\n",
    "2. Action: This space is also called the control space. Examples of actions can be given as moving to a discrete neighboring state, and torques applied to a joint.\n",
    "\n",
    "3. Reward or Cost Function: The reward $r(x,a)$ or cost $c(x,a)$ of taking an action $a$ at state $x$. The cost function can be defined as the negative of a given reward function and switch of the max (rewards) to min (costs). It should be noted, however, that sometimes the use of the phrase cost is meant to imply that the cost is strictly positive.\n",
    "\n",
    "\n",
    "MDP represents environments with state-spaces that allow an agent to make decisions. In search algorithms, we return a sequence of actions that lead to the goal state, and actions always translate to states. In reinforcement learning, we return a sequence of states that lead to the goal state.  To do this, the agent is rewarded for taking actions that lead to the goal state. MDP is a richer environment representation that allows randomness that other machine learning strategies cannot handle. MDP uses stochastic transition probabilities to model the environment. Stochastic transitions include randomness, for example, the agent might move in a direction and a condition might occur which puts the agent in an unmodeled condition. In robotics, the ability to maintain function in uncertainties is called resiliance. Therefore, MDP is an important tool for kinematic resiliance.\n",
    "\n",
    "Probability distributions include $s'$ what state we end up in, $s$ given the current state that we are in, and $a$ the action that we choose.\n",
    "\n",
    "$$Pr(s|s', a)=0.2$$\n",
    "\n",
    "This representation means three things: (i) the next state depends only one the previous state, (ii)  the probability function is the description and representation of the environment, (iii) the agent generates its own data.\n",
    "\n",
    "To determine how to acquire 'good' rewards, we propose a policy. A policy, represented with $\\pi$, is a function of states that maps states to actions, and tells which action to take in each state.\n",
    "\n",
    "A policy is different than a sequence of actions. In sequence of actions, if the transition takes the agent to an unmodeled or uncertain state, the algorithm runs out of options. However, policy can be evaluated in the uncertain state."
   ]
  },
  {
   "cell_type": "markdown",
   "metadata": {},
   "source": [
    "We consider a rectangular gridworld representation (see below) of a simple finite Markov Decision Process (MDP). The cells of the grid correspond to the states of the environment. At each cell, four actions are possible: north, south, east, and west, which deterministically cause the agent to move one cell in the respective direction on the grid. Actions that would take the agent off the grid leave its location unchanged, but also result in a reward of -1. In other words, rewards are positive for goals, negative for running into undesirable states, and zero the rest of the time."
   ]
  },
  {
   "cell_type": "markdown",
   "metadata": {},
   "source": [
    "$$\n",
    "\\begin{array}{|c|c|c|c|}\n",
    "\\hline\n",
    "0 & 0 & 0 & 0 \\\\\n",
    "\\hline\n",
    "0 & 0 & -1 & 0 \\\\\n",
    "\\hline\n",
    "\\colorbox{blue}{}& 0 & -1 & 1 \\\\\n",
    "\\hline\n",
    "\\end{array}\n",
    "$$\n",
    "\n"
   ]
  },
  {
   "cell_type": "markdown",
   "metadata": {},
   "source": [
    "Next we define the rewards for the states. Those will be of +1 for the state that is desirable, of -1 for states that have to be avoided and of 0 for all other states. The Bellman equation expresses a relationship between the value of a state and the values of its successor states and must hold for each state for the value function $v_{\\pi}$\n",
    "\n",
    "$$ v_{\\pi}(s) = \\sum_a \\pi(a \\mid s) \\sum_{s'| r} p(s', r \\mid s, a) [ r + \\gamma v_{\\pi}(s')] $$\n",
    "\n",
    "where the actions, $a$ are taken from the set $A(s)$ that the next states, $s'$ are taken from the set $S$ and that the rewards, $r$ are taken from the set $R$.\n",
    "\n",
    "Suppose the agent selects all four actions with equal probability in all states. The figure below shows the value function, $v_{\\pi}$, for this policy, for the discounted reward case with $\\gamma=0.9$\n",
    "\n",
    "$$\n",
    "\\begin{array}{|c|c|c|c|}\n",
    "\\hline\n",
    "0.42 & 0.48 & 0.52 & 0.63 \\\\\n",
    "\\hline\n",
    "0.38 & 0.43 & \\color{orange}{-1} & 0.72 \\\\\n",
    "\\hline\n",
    "0.34 & 0.38 & \\color{orange}{-1} & \\color{green}{+1} \\\\\n",
    "\\hline\n",
    "\\end{array}\n",
    "$$\n",
    "\n",
    "Therefore the agent movement can be tracked so:\n",
    "\n",
    "$$\n",
    "\\begin{array}{|c|c|c|c|}\n",
    "\\hline\n",
    " & \\textcolor{lightblue}{\\rightarrow} & \\textcolor{lightblue}{\\rightarrow} & \\textcolor{lightblue}{\\downarrow} \\\\\n",
    "\\hline\n",
    "\\textcolor{lightblue}{\\rightarrow} & \\textcolor{lightblue}{\\uparrow} & \\textcolor{orange}{-1} & \\textcolor{lightblue}{\\downarrow} \\\\\n",
    "\\hline\n",
    "\\textcolor{lightblue}{\\uparrow\\rightarrow} & \\textcolor{lightblue}{\\uparrow} & \\textcolor{orange}{-1} & \\textcolor{green}{+1} \\\\\n",
    "\\hline\n",
    "\\end{array}\n",
    "$$\n"
   ]
  },
  {
   "cell_type": "markdown",
   "metadata": {},
   "source": [
    "The logic can be seen in the code snippet below"
   ]
  },
  {
   "cell_type": "code",
   "execution_count": 5,
   "metadata": {},
   "outputs": [],
   "source": [
    "#Hyperparameters\n",
    "SMALL_ENOUGH = 0.005\n",
    "GAMMA = 0.9\n",
    "NOISE = 0.1\n",
    "\n",
    "#Define all states\n",
    "all_states=[]\n",
    "for i in range(3):\n",
    "    for j in range(4):\n",
    "            all_states.append((i,j))\n",
    "\n",
    "#Define rewards for all states\n",
    "rewards = {}\n",
    "for i in all_states:\n",
    "    if i == (1,2):\n",
    "        rewards[i] = -1\n",
    "    elif i == (2,2):\n",
    "        rewards[i] = -1\n",
    "    elif i == (2,3):\n",
    "        rewards[i] = 1\n",
    "    else:\n",
    "        rewards[i] = 0\n",
    "\n",
    "#Dictionary of possible actions. We have two \"end\" states (1,2 and 2,2)\n",
    "actions = {\n",
    "    (0,0):('D', 'R'),\n",
    "    (0,1):('D', 'R', 'L'),\n",
    "    (0,2):('D', 'L', 'R'),\n",
    "    (0,3):('D', 'L'),\n",
    "    (1,0):('D', 'U', 'R'),\n",
    "    (1,1):('D', 'R', 'L', 'U'),\n",
    "    (1,3):('D', 'L', 'U'),\n",
    "    (2,0):('U', 'R'),\n",
    "    (2,1):('U', 'L', 'R'),\n",
    "    }\n",
    "\n",
    "#Define an initial policy\n",
    "policy={}\n",
    "for s in actions.keys():\n",
    "    policy[s] = np.random.choice(actions[s])\n",
    "\n",
    "#Define initial value function\n",
    "V={}\n",
    "for s in all_states:\n",
    "    if s in actions.keys():\n",
    "        V[s] = 0\n",
    "    if s ==(2,2):\n",
    "        V[s]=-1\n",
    "    if s == (1,2):\n",
    "        V[s]=-1\n",
    "    if s == (2,3):\n",
    "        V[s]=1\n",
    "\n",
    "iteration = 0\n",
    "while True:\n",
    "    biggest_change = 0\n",
    "    for s in all_states:\n",
    "        if s in policy:\n",
    "\n",
    "            old_v = V[s]\n",
    "            new_v = 0\n",
    "\n",
    "            for a in actions[s]:\n",
    "                if a == 'U':\n",
    "                    nxt = [s[0]-1, s[1]]\n",
    "                if a == 'D':\n",
    "                    nxt = [s[0]+1, s[1]]\n",
    "                if a == 'L':\n",
    "                    nxt = [s[0], s[1]-1]\n",
    "                if a == 'R':\n",
    "                    nxt = [s[0], s[1]+1]\n",
    "\n",
    "                #Choose a new random action to do (transition probability)\n",
    "                random_1=np.random.choice([i for i in actions[s] if i != a])\n",
    "                if random_1 == 'U':\n",
    "                    act = [s[0]-1, s[1]]\n",
    "                if random_1 == 'D':\n",
    "                    act = [s[0]+1, s[1]]\n",
    "                if random_1 == 'L':\n",
    "                    act = [s[0], s[1]-1]\n",
    "                if random_1 == 'R':\n",
    "                    act = [s[0], s[1]+1]\n",
    "\n",
    "                #Calculate the value\n",
    "                nxt = tuple(nxt)\n",
    "                act = tuple(act)\n",
    "                v = rewards[s] + (GAMMA * ((1-NOISE)* V[nxt] + (NOISE * V[act])))\n",
    "                if v > new_v: #Is this the best action so far? If so, keep it\n",
    "                    new_v = v\n",
    "                    policy[s] = a\n",
    "\n",
    "       #Save the best of all actions for the state\n",
    "            V[s] = new_v\n",
    "            biggest_change = max(biggest_change, np.abs(old_v - V[s]))\n",
    "\n",
    "   #See if the loop should stop now\n",
    "    if biggest_change < SMALL_ENOUGH:\n",
    "        break\n",
    "    iteration += 1"
   ]
  },
  {
   "cell_type": "markdown",
   "metadata": {},
   "source": [
    "### Optimal Policy\n",
    "\n",
    "$$ \\pi^*(x,t) = {argmin}_{a}[c(x,a)+V^*(\\tau(x,a),t+1)] $$\n",
    "\n",
    "Optimal policy computing algorithm can be seen below"
   ]
  },
  {
   "cell_type": "code",
   "execution_count": null,
   "metadata": {},
   "outputs": [],
   "source": [
    "def OptimalPolicy(x,T)\n",
    "    for t= T-1,...,0 do\n",
    "        for x in X do\n",
    "            if t= T-1 then\n",
    "                "
   ]
  },
  {
   "cell_type": "markdown",
   "metadata": {},
   "source": [
    "Exercise - 3\n",
    "\n",
    "Task 1\n",
    "\n",
    "a) Give $v_\\pi (s)$ in terms of $q\\pi (s,a)$\n",
    "\n",
    "\n",
    "b) Give $\\pi_* (s,a)$ in terms of $q_*(s,a)$\n",
    "\n",
    "\n",
    "\n",
    "### Task 2: Reward Offset in Non-terminating Trajectories\n",
    "Show that this measure only adds a factor $v_c$, to the state values and hence does not change the  optimal behavior. Express $v_c$ in terms of $c$ and $\\gamma$\n",
    "\n",
    "$v_\\pi(s) = \\mathbb{E}_\\pi[G_t|S_t=s] = \\mathbb{E}_\\pi \\left[ \\sum_{k}^{\\infty} \\gamma^k R_(t+k+1) | S_t = s \\right]$ \n",
    "\n",
    "\n",
    "\n",
    "\n",
    "### Task 3 Action Value Function\n",
    "\n",
    "\n",
    "\n"
   ]
  },
  {
   "cell_type": "markdown",
   "metadata": {},
   "source": [
    "### Task 4: Bellman Optimality Equations\n",
    "\n",
    "<img src=\"img/recycling_bot.png\" alt=\"Recycling Robot\" width=40% height=40%>\n",
    "\n",
    "a) Recycling Bot: Derive the Bellman optimality equations of the recycling robot and solve them for the optimal state value function.\n",
    "\n",
    "$ v_*(s) = max_{a} q_*(s,a) $ \\\n",
    "&nbsp;&nbsp;&nbsp;&nbsp;&nbsp;&nbsp;&nbsp;&nbsp;&nbsp;&nbsp;&nbsp;&nbsp;&nbsp;&nbsp; $max {p(h,r_s | h,s) [r_s + \\gamma v_* (h)] } $\n"
   ]
  },
  {
   "cell_type": "code",
   "execution_count": 4,
   "metadata": {},
   "outputs": [],
   "source": [
    "# MDP Parameters\n",
    "R_S = 3\n",
    "R_W = 1\n",
    "R_E = -30\n",
    "\n",
    "ALPHA = 0.9\n",
    "BETA = 0.5\n",
    "GAMMA = 0.9\n",
    "\n",
    "\n",
    "# Forumulation of Bellman Optimality Equation\n",
    "def bell_opt_eq_rb(v):\n",
    "    v_h = v[0]\n",
    "    v_l = v[1]\n",
    "\n",
    "    F = np.empty(2)\n",
    "    F[0] = v_h - max(R_S + GAMMA*(ALPHA*v_h + (1-ALPHA)*v_l), R_W + GAMMA * v_h)\n",
    "    F[1] = v_l - max(BETA*R_S + R_E*(1-BETA) + GAMMA*((1-BETA)*v_h + BETA*v_l), R_W + GAMMA*v_l, GAMMA*v_h)\n",
    "    return F"
   ]
  },
  {
   "cell_type": "markdown",
   "metadata": {},
   "source": [
    "## Value Iteration\n",
    "\n",
    "Value iteration algorithm optimizes policies to navigate statespace.\n",
    "\n",
    "\n"
   ]
  },
  {
   "cell_type": "code",
   "execution_count": null,
   "metadata": {},
   "outputs": [],
   "source": [
    "iteration = 0\n",
    "while True:\n",
    "    biggest_change = 0\n",
    "    for s in all_states:\n",
    "        if s in policy\n",
    "\n",
    "            old_v = V[s]\n",
    "            new_v = 0\n",
    "\n",
    "            for a in actions[s]:\n",
    "                if a == 'U'       "
   ]
  },
  {
   "cell_type": "markdown",
   "metadata": {},
   "source": [
    "## Uncertainty\n",
    "\n",
    "Markov Decision Processes often assume a fully modeled probability state model. If behavior leads outside of the model, some form of exception handling needs to be conducted"
   ]
  },
  {
   "cell_type": "markdown",
   "metadata": {},
   "source": [
    "## Recursive State Estimation in Probabilistic Robotics\n",
    "\n",
    "The theory was suggested by Sebastian Thrun et.al, one of the most important parts about Markov Decision Processes is the idea that you do not need to know where your coming from but only your current state, the transition between states is what is modeled and the resulting state, not a whole history sequence of states within each state. Probabilistic Robotics mostly focuses on the problem of simultaneous localization and mapping for mobile robotics. The fundamental ideas within Recursive State Estimation are transferable, there are a number of algorithm to choose from most important for the state modeling are variations of what is called a particle filter (there quite a few different types) and Gaussian Mixture Models (sometimes referred to as multi hypothesis Kalman filter). \n"
   ]
  },
  {
   "cell_type": "markdown",
   "metadata": {},
   "source": [
    "## Decision Trees\n",
    "\n",
    "This section will include Monte Carlo tree search, Bayesian Filter, trade-off factor between exploration and exploitation, and Upper Confidence Trees.\n",
    "\n",
    "\n",
    "### Monte Carlo Tree Search\n",
    "In an environment in which either complete modelling is not possible or decision tree is still \n",
    "\n"
   ]
  },
  {
   "cell_type": "markdown",
   "metadata": {},
   "source": [
    "### Future Directions in Reinforcement Learning\n",
    "- Extrapolating the learning to uncertain states\n",
    "- Sample efficiency\n",
    "- Multi-agent RL evolution\n",
    "- Robustness"
   ]
  },
  {
   "cell_type": "markdown",
   "metadata": {},
   "source": [
    "# MDPs with State Uncertainty\n",
    "\n",
    "This chapter will discuss adaptive control theories in Markov Decision Processes. \n",
    "\n",
    "\n",
    "## Adaptive Control Methods\n",
    "\n",
    "In general, adaptive control is the method used by a controller which must adapt to a controlled system with parameters which vary, or are initially uncertain. It is different than robust control, which guarantees that if the changes are within given bounds the control law need not be changed, while adaptive control is concerned with control law changing itself.\n",
    "\n",
    "\n",
    "### Partially Observable Markov Decision Process (POMDP)\n",
    "\n",
    "In 1965, the general framework of Markov Decision processes with incomplete information about the state was described by the control theorist Karl Johan Åström. \n",
    "\n",
    "A Partially Observable Markov Decision Process is the 7-tuple problem formulation of an MDP with state uncertainty where the true state is not know, only a belief about the true state exists using observations.\n",
    "\n",
    "\n",
    "| Variable | Description | POMDPs Interface |\n",
    "|----------|:---------:|-------:|\n",
    "| $S$ | State Space | POMDP.states|\n",
    "| $A$ | Action Space | POMDPs.actions|\n",
    "| $O$ | Observation Space | POMDPs.observations|\n",
    "| $T(s'\\|s,a)$ | Transition Function | POMDPs.transition|\n",
    "| $R(s,a)$ | Reward Function | POMDPs.reward|\n",
    "| $O(o\\|s')$| Observation Function | POMDPs.observation|\n",
    "| $\\gamma \\in [0,1]$ | Discount Factor | POMDPs.discount |\n",
    "\n",
    "\n"
   ]
  },
  {
   "cell_type": "markdown",
   "metadata": {},
   "source": [
    "&nbsp;"
   ]
  },
  {
   "cell_type": "markdown",
   "metadata": {},
   "source": [
    "<div style=\"display: flex;\">\n",
    "    <div style=\"flex: 1; padding-left: 10px;\">\n",
    "        <div>\n",
    "            <h3>Crying Baby Problem</h3>\n",
    "            <p>An example for POMDP is the Crying Baby Problem which is a simple model with 2 states, 2 actions, and 2 observations.\n",
    "\n",
    "$$\n",
    "s_t = \\left[hungry, full \\right]\\\\\n",
    "a_t = \\left[feed, ignore \\right]\\\\\n",
    "o_t = \\left[crying, quiet \\right]\\\\\n",
    "$$\n",
    "\n",
    "\n",
    "&nbsp;\n",
    "\n",
    "$$\n",
    "\\begin{array}{cccc}\n",
    "\\text{States} & \\text{Actions} & \\text{Observations} & \\text{Transitions} \\\\\n",
    "\\hline\n",
    "S_1: \\text{Hungy} & A_1: \\text{Feed} & O_1: \\text{Silent} & S_1 \\rightarrow S_1 \\\\\n",
    "S_2: \\text{Full} & A_2: \\text{Ignore} & O_2: \\text{Crying} & S_1 \\rightarrow S_2 \\\\\n",
    "& & & S_2 \\rightarrow S_1 \\\\\n",
    "\\end{array}\n",
    "$$\n",
    "\n",
    "We cannot  directly say that the baby is truly in the hungry state, but we can observe that the baby is crying and update our belief about the true state using this information.\n",
    "</p>\n",
    "        </div>\n",
    "    </div>\n",
    "    <div>\n",
    "        <div style=\"flex: 1; padding-right: 10px;\">\n",
    "        <img src=\"img/pomdp_cryingbaby.png\" alt=\"Your Image\" style=\"width: 80%;\">\n",
    "    </div>\n",
    "</div>\n"
   ]
  },
  {
   "cell_type": "code",
   "execution_count": 9,
   "metadata": {},
   "outputs": [
    {
     "name": "stdout",
     "output_type": "stream",
     "text": [
      "Initial Belief: [0.5 0.5]\n",
      "Updated Belief after action 'feed' and observation 'crying': [0.50943396 0.49056604]\n",
      "Selected Action based on belief: feed\n"
     ]
    },
    {
     "data": {
      "image/png": "[encoded data removed]",
      "text/plain": [
       "<Figure size 1000x600 with 1 Axes>"
      ]
     },
     "metadata": {},
     "output_type": "display_data"
    }
   ],
   "source": [
    "class POMDP_CryingBaby:\n",
    "    def __init__(self):\n",
    "        # Define states, actions, and observations\n",
    "        self.states = ['hungry', 'full']\n",
    "        self.actions = ['feed', 'ignore']\n",
    "        self.observations = ['crying', 'quiet']\n",
    "        \n",
    "        # Transition probabilities\n",
    "        self.transition_probs = np.array([\n",
    "            # State: hungry\n",
    "            [[0.6, 0.4],  # Action: feed\n",
    "             [0.3, 0.7]], # Action: ignore\n",
    "            # State: full\n",
    "            [[0.1, 0.9],  # Action: feed\n",
    "             [0.7, 0.3]]] # Action: ignore\n",
    "        )\n",
    "        \n",
    "        # Observation probabilities\n",
    "        self.observation_probs = np.array([\n",
    "            # State: hungry\n",
    "            [[0.8, 0.2],  # Observation: crying\n",
    "             [0.1, 0.9]], # Observation: quiet\n",
    "            # State: full\n",
    "            [[0.3, 0.7],  # Observation: crying\n",
    "             [0.9, 0.1]]] # Observation: quiet\n",
    "        )\n",
    "        \n",
    "        # Initial belief\n",
    "        self.belief = np.array([0.5, 0.5])\n",
    "    \n",
    "    def update_belief(self, action, observation):\n",
    "        new_belief = np.zeros_like(self.belief)\n",
    "        for i in range(len(self.states)):\n",
    "            for j in range(len(self.states)):\n",
    "                new_belief[i] += self.transition_probs[i][j][self.actions.index(action)] * \\\n",
    "                                 self.observation_probs[i][self.observations.index(observation)][j] * \\\n",
    "                                 self.belief[j]\n",
    "        self.belief = new_belief / sum(new_belief)\n",
    "        return self.belief\n",
    "    \n",
    "    def select_action(self):\n",
    "        return self.actions[np.argmax(self.belief)]\n",
    "        \n",
    "\n",
    "pomdp = POMDP_CryingBaby()\n",
    "\n",
    "# Initial belief\n",
    "print(\"Initial Belief:\", pomdp.belief)\n",
    "\n",
    "# Update belief based on action and observation\n",
    "action = 'feed'\n",
    "observation = 'crying'\n",
    "pomdp.update_belief(action, observation)\n",
    "print(\"Updated Belief after action '{}' and observation '{}':\".format(action, observation), pomdp.belief)\n",
    "\n",
    "# Action based on belief\n",
    "print(\"Selected Action based on belief:\", pomdp.select_action())\n",
    "\n",
    "\n",
    "def plot_belief_update(actions, observations):\n",
    "    pomdp = POMDP_CryingBaby()\n",
    "    beliefs_over_time = [pomdp.belief]\n",
    "    \n",
    "    for action, observation in zip(actions, observations):\n",
    "        pomdp.update_belief(action, observation)\n",
    "        beliefs_over_time.append(pomdp.belief)\n",
    "    \n",
    "    beliefs_over_time = np.array(beliefs_over_time)\n",
    "    \n",
    "    plt.figure(figsize=(10, 6))\n",
    "    for i, observation in enumerate(pomdp.observations):\n",
    "        plt.plot(beliefs_over_time[:, i], label='Belief after observation: {}'.format(observation))\n",
    "    plt.xlabel('Steps')\n",
    "    plt.ylabel('Belief Probability')\n",
    "    plt.title('Belief Update over Time based on Observations')\n",
    "    plt.legend()\n",
    "    plt.grid(True)\n",
    "    plt.show()\n",
    "\n",
    "# Example usage\n",
    "actions = ['feed', 'ignore', 'feed', 'ignore', 'feed']\n",
    "observations = ['crying', 'quiet', 'crying', 'quiet', 'crying']\n",
    "plot_belief_update(actions, observations)"
   ]
  },
  {
   "cell_type": "markdown",
   "metadata": {},
   "source": [
    "### POMDP Policies and Beliefs\n",
    "While policies in MDPs map a state to an action, in POMDPs, policies map belief states additionally.\n",
    "\n",
    "In the Crying Baby Problem, we have two policies:\n",
    "- FeedWhenCrying\n",
    "- FeelWhenBelievedHungry\n",
    "\n",
    "Beliefs are a vector of probabilities that represent a state. The belief vector must be non-negative and sum to 1 in order to be a valid probability distribution\n",
    "\n",
    "$b = \\left[p(hungry),  p(full) \\right]$\n"
   ]
  },
  {
   "cell_type": "code",
   "execution_count": null,
   "metadata": {},
   "outputs": [],
   "source": [
    "def policy_cryingbaby: \n",
    "    if [b[1] > b[2]\n",
    "        return FEED\n",
    "    else\n",
    "        return IGNORE\n",
    "    end"
   ]
  },
  {
   "cell_type": "markdown",
   "metadata": {},
   "source": [
    "### Belief Updating\n",
    "\n",
    "Belief Updater is a Bayesian Filter that updates the current belief of the babies actual state (which is not observed directly).\n",
    "\n",
    "For staters we use a uniform belief over where $p(hungry)=0.5$ and $p(full)=0.5$"
   ]
  },
  {
   "cell_type": "code",
   "execution_count": null,
   "metadata": {},
   "outputs": [],
   "source": [
    "b0 = uniform_belief(pomdp); b0.b"
   ]
  },
  {
   "cell_type": "markdown",
   "metadata": {},
   "source": [
    "Then we can update our belief based on our action and subsequent observation."
   ]
  },
  {
   "cell_type": "code",
   "execution_count": null,
   "metadata": {},
   "outputs": [],
   "source": [
    "begin\n",
    "    a1 = IGNORE\n",
    "    o1 = CRYING\n",
    "    b1 = update(updater(pompd), b0, a1, o1)\n",
    "    b1.b\n",
    "end"
   ]
  },
  {
   "cell_type": "markdown",
   "metadata": {},
   "source": [
    "# non-Markov Environments"
   ]
  },
  {
   "cell_type": "markdown",
   "metadata": {},
   "source": [
    "### Defining Singularity\n",
    "\n",
    "Singularity is created at the point when the equations produce outputs on the scale of infinity. In robotics context, this refers to situations where the robot's motion or kinematics reach a critical point, approaching infinity. As a unique challenge in robotics, the output values become extremely large or unbounded, which causes numerical instability and unpredictability in the robot's behavior and in controlling the robot motion."
   ]
  }
 ],
 "metadata": {
  "kernelspec": {
   "display_name": "Python 3 (ipykernel)",
   "language": "python",
   "name": "python3"
  },
  "language_info": {
   "codemirror_mode": {
    "name": "ipython",
    "version": 3
   },
   "file_extension": ".py",
   "mimetype": "text/x-python",
   "name": "python",
   "nbconvert_exporter": "python",
   "pygments_lexer": "ipython3",
   "version": "3.8.10"
  }
 },
 "nbformat": 4,
 "nbformat_minor": 4
}
