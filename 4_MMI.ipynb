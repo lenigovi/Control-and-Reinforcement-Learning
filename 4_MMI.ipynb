{
 "cells": [
  {
   "cell_type": "markdown",
   "metadata": {},
   "source": [
    "### Man Machine Interaction\n",
    "\n",
    "Modeling In Robotics\n",
    "\n",
    "Robot modeling is an iterative process. An equation of motion is a mathematical equation (or a system of equations) that completely describes the spatial and temporal evolution of a physical system under the influence of external influences.\n",
    "\n",
    "&nbsp;\n",
    "\n",
    "- Rigid body without acting force:\\\n",
    "$m\\dot{\\overrightarrow{x_s}} = const$\n",
    "\n",
    "Newton's first law states that the momentum is constant when no force is applied.\n",
    "\n",
    "- For a rigid body in translational motion with one acting force\\\n",
    "$ \\frac{\\partial}{\\partial{t}}{(m\\dot{\\overrightarrow{x}}_s)} = \\overrightarrow{F} $\n",
    "\n",
    "\n",
    "- For a rigid body in rotary motion\\\n",
    "$ \\theta_s\\ddot{\\overrightarrow{\\phi}} = \\overrightarrow{M} $\n",
    "\n",
    "&nbsp;\n",
    "\n",
    "Functional determinant: The determinant of the Jacobian matrix\n",
    "\n",
    "$ |J| = \\begin{bmatrix}\\frac{dx}{dr} & \\frac{dx}{d\\phi} & \\frac{dx}{dh}\\\\ \\frac{dy}{dr} & \\frac{dy}{d\\phi} & \\frac{dy}{dh} \\\\ \\frac{dz}{dr} & \\frac{dz}{d\\phi} & \\frac{dz}{dh}\\end{bmatrix}$"
   ]
  }
 ],
 "metadata": {
  "language_info": {
   "name": "python"
  }
 },
 "nbformat": 4,
 "nbformat_minor": 2
}
