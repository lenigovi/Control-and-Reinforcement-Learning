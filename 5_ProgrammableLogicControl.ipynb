{
 "cells": [
  {
   "cell_type": "markdown",
   "metadata": {},
   "source": [
    "# Programmable Logic Controllers (PLCs)\n",
    "\n",
    "A programmable logic controller (PLC) is a type of computer that receives data and send operating instructions through outputs. Fundamentally the task of a PLC is to control a system's functions using the internal logic that is programmed into it.\n",
    "\n"
   ]
  },
  {
   "cell_type": "markdown",
   "metadata": {},
   "source": [
    "## Logic Gates in Circuits\n",
    "\n",
    "A logic gate is an electronic circuit designed to perform logical operations in digital systems like computers, communication systems, using electronic components like diodes, transistors, resistors, and so on. Logic gates are the building blocks of a digital circuit to execute operations and can take two or more inputs but only produce one output. The output of a logic gate depends on the combination of inputs and the performed logical operation.\n",
    "\n",
    "\n",
    "Basic Logic Gates\n",
    "- AND Gate\n",
    "- OR Gate\n",
    "- NOT Gate\n",
    "\n",
    "Universal Logic Gates\n",
    "- NOR Gate\n",
    "- NAND Gate\n",
    "\n",
    "Derived Logic Gates\n",
    "- XOR Gate\n",
    "- XNOR Gate"
   ]
  },
  {
   "cell_type": "markdown",
   "metadata": {},
   "source": [
    "## Theorems of Boolean Algebra"
   ]
  },
  {
   "cell_type": "markdown",
   "metadata": {},
   "source": [
    "\n",
    "Derive and simplify the form $F_1: \\overline{A}BC + A\\overline{BC} + A\\overline{B}C + AB\\overline{C} + ABC$\n",
    "\n",
    "$= \\overline{A}BC + A\\overline{BC} + A\\overline{B}C + AB\\overline{C} + ABC $\n",
    "\n",
    "$= \\overline{A}BC + A(\\overline{BC}+\\overline{B}C+B\\overline{C}+BC) $\n",
    "\n",
    "$= \\overline{A}BC + A(\\overline{B}(\\overline{C}+C)+B(\\overline{C}+C))$\n",
    "\n",
    "$= \\overline{A}BC + A(\\overline{B} \\cdot 1 + B \\cdot 1)$\n",
    "\n",
    "$= \\overline{A}BC + A \\cdot 1$\n",
    "\n",
    "$= BC + A$"
   ]
  }
 ],
 "metadata": {
  "language_info": {
   "name": "python"
  }
 },
 "nbformat": 4,
 "nbformat_minor": 2
}
