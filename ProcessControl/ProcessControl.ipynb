{
 "cells": [
  {
   "cell_type": "markdown",
   "metadata": {},
   "source": [
    "## Unit 1 | Signals in time and frequency domains"
   ]
  },
  {
   "cell_type": "markdown",
   "metadata": {},
   "source": [
    "The input-output relationship for a broad class of LTI systems is characterized by a linear, constant-coefficient difference equation (LCCDE)\n",
    "\n",
    "\n",
    "$$\n",
    "\\begin{align}\n",
    "y[n] &= \\sum_{k=0}^{N} a_k x[n-k] \\\\\n",
    "&= x[n] + a_1 x[n-1] + a_2 x[n-2] + \\cdots + a_N x[n-N]\n",
    "\\end{align}\n",
    "$$\n",
    "\n",
    "\n",
    "### Linear Time Invariant System\n",
    "\n",
    "\\\n",
    "\\\n",
    "$\n",
    "\\begin{array}{c}\n",
    "\\text{x[n]} \\\\\n",
    "\\longrightarrow \\\\\n",
    "\\text{x[t]}\n",
    "\\end{array}\n",
    "\\begin{array}{|c|}\n",
    "\\hline\n",
    "\\hspace{4.5cm} \\\\[4cm]\n",
    "\\hline\n",
    "\\end{array}\n",
    "\\quad\n",
    "\\begin{array}{c}\n",
    "\\text{y[n]} \\\\\n",
    "\\longrightarrow \\\\\n",
    "\\text{y[t]}\n",
    "\\end{array}\\\\\n",
    "$\n",
    "\n",
    "discrete time signal $x[n]$ \\\n",
    "continuous time signal $x[t]$\n",
    "\n",
    "\n",
    "\n",
    "\n",
    "\\\n",
    "The behavior of a linear, continuous-time, time-invariant system with input signal x(t) and output signal y(t) is described by the convolution integral:\n",
    "\n",
    "$$\n",
    "\\begin{equation}\n",
    "y(t) = (x*h)(t) = \\int_{-\\infty}^{\\infty} x(\\tau) \\cdot h(t-\\tau) \\, d\\tau\n",
    "\\tag{3}\n",
    "\\end{equation}\n",
    "$$\n",
    "\n",
    "\n",
    "\n",
    "LTI systems can be finite impulse response (FIR)) or infinite impulse response (IIR)) systems. Of course in either case the impulse response extends from $\\infty$ to $-\\infty$  but if it is FIR then only a finite number of the impulse response values are non-zero.\n",
    "\n",
    "LTI systems characterized by an LCCDE can be either recursive or non-recursive. The equation being recursive implies that the computation of the current output depends recursively on previous output values as well as, of course, on input values. Non-recursive implies that the computation of the current value relies directly on a finite number of input values and not on previous output values.\n",
    "\n",
    "For IIR LTI systems the LCCDE is always recursive. However FIR systems can also be implemented with a recursive difference equation which in effect incorporates pole-zero cancellation in the transfer function.\n"
   ]
  }
 ],
 "metadata": {
  "language_info": {
   "name": "python"
  }
 },
 "nbformat": 4,
 "nbformat_minor": 2
}
