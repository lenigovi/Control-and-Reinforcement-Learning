{
 "cells": [
  {
   "cell_type": "markdown",
   "metadata": {},
   "source": [
    "## Unit 1: Signals in time and frequency domains"
   ]
  },
  {
   "cell_type": "markdown",
   "metadata": {},
   "source": [
    "The input-output relationship for a broad class of LTI systems is characterized by a linear, constant-coefficient difference equation (LCCDE)\n",
    "\n",
    "\\\n",
    "\\\n",
    "$\n",
    "\\begin{array}{c}\n",
    "\\text{x[n]} \\\\\n",
    "\\longrightarrow \\\\\n",
    "\\text{x[t]}\n",
    "\\end{array}\n",
    "\\begin{array}{|c|}\n",
    "\\hline\n",
    "\\hspace{1.5cm}{LTI} \\\\[1cm]\n",
    "\\hline\n",
    "\\end{array}\n",
    "\\quad\n",
    "\\begin{array}{c}\n",
    "\\text{y[n]} \\\\\n",
    "\\longrightarrow \\\\\n",
    "\\text{y[t]}\n",
    "\\end{array}\n",
    "$\n",
    "\n",
    "discrete time signal $x[n]$ \\\n",
    "continuous time signal $x[t]$\n",
    "\n",
    "\\\n",
    "The behavior of a linear, continuous-time, time-invariant system with input signal x(t) and output signal y(t) is described by the convolution integral:\n",
    "\n",
    "$$ y(t) = (x*h)(t) = \\int_{-\\infty}^{\\infty} x(\\tau) \\cdot h(t-\\tau) \\, d\\tau $$\n",
    "\n"
   ]
  }
 ],
 "metadata": {
  "language_info": {
   "name": "python"
  }
 },
 "nbformat": 4,
 "nbformat_minor": 2
}
