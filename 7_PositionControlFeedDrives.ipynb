{
 "cells": [
  {
   "cell_type": "markdown",
   "metadata": {},
   "source": [
    "## Synchronous Motors and Position Control Feed Drives\n",
    "\n",
    "Synchronous motor is an electric motor whose rotation speed is synchronized with the electric frequency of the alternating current (AC)."
   ]
  },
  {
   "cell_type": "markdown",
   "metadata": {},
   "source": [
    "## Transfer Functions\n",
    "\n",
    "A transfer function is a system function that models the system's output for every possible input. This function can be represented as a two-dimensional graph of an independent scalar input versus the dependent scalar input.\n",
    "\n",
    "$$ U(s) \\rightarrow G(S) \\rightarrow Y(S)$$\n",
    "\n",
    "The transfer function of a linear system is the ratio of the Laplace Transform of the output to the Laplace Transform of the input. in other words:\n",
    "\n",
    "$$ G(S) = \\frac{Y(S)}{U(s)} = \\frac{output signal}{input signal}$$"
   ]
  },
  {
   "cell_type": "markdown",
   "metadata": {},
   "source": [
    "### Theory of Laplace Transformation\n",
    "\n",
    "Laplace Tranformation converts a function of a real variable in time domain to a complex variable (s) in Laplace domain, also known as S-domain. Laplace Transformation offers the advantage of representing differential equations as complex algebraic equations and simplifying solution process.\n",
    "\n",
    "$$\\mathcal{L}\\{f(\\tau)\\}= F(S)$$\n",
    "\n",
    "&nbsp;\n",
    "\n",
    "\n",
    "$$ \\mathcal{L}\\{f(\\tau)\\} = \\int_{0}^\\infty f(\\tau)e^{-s\\tau}d\\tau \\ \\ \\ \\ (s = \\sigma + j\\cdot\\omega)$$ \n",
    "\n",
    "Laplace Transformation is used commonly in linear time-invariant systems by converting convolution operations in the time domain into multiplication operations in the Laplace domain.\n",
    "\n",
    "&nbsp;\n",
    "\n",
    "To explain the concept in a simple example, the multiplication of 100 by 100 can be calculated without multiplying $100\\times100$ by being transformed to a logarithmic function, the output of which can be inverse transformed to obtain the result.\n",
    "\n",
    "$$100\\times100 \\xrightarrow{transfer\\ func} \\log(100\\times100)$$\n",
    "\n",
    "$$ = \\log(100) + \\log(100) $$\n",
    "\n",
    "$$ = 4 \\xrightarrow{inverse\\ trans.} 10^4 $$\n",
    "\n",
    "&nbsp;\n",
    "\n",
    "\n",
    "&nbsp;\n",
    "\n",
    "For example Laplace Tranformation of $e^{at}$ is solved with the property of integer of exponential as can be seen below.\n",
    "\n",
    "$\\mathcal{L}\\{e^{at}\\}$, &nbsp; $t \\geq 0$\n",
    "\n",
    "\n",
    "$= \\int_{0}^\\infty e^{at}\\cdot e^{-st}dt$\n",
    "\n",
    "$= \\int_{0}^\\infty e^{at-st}dt$\n",
    "\n",
    "$= \\frac{e^{(a-s)t}}{a-s} $\n"
   ]
  },
  {
   "cell_type": "markdown",
   "metadata": {},
   "source": [
    "## System with Proportional Behavior (P-System)\n",
    "\n",
    "P-System responds to the current error, and control action is directly proportional to the error signal, which is the difference between desired setpoint and actual process variable.\n",
    "\n",
    "$$ u(t) = K_p \\cdot e(t)$$\n",
    "\n",
    "where\n",
    "\n",
    "$u(t)$ is the control signal,\n",
    "\n",
    "$K_p$ is the amplification (proportional gain)\n",
    "\n",
    "$e(t)$ is the error signal\n",
    "\n",
    "In P-Systems, the output increases and decreases in direct proportion to the error. This reduces the overall error but cannot eliminate it completely because there is always some offset when the error is minimized to a small steady-state value."
   ]
  }
 ],
 "metadata": {
  "language_info": {
   "name": "python"
  }
 },
 "nbformat": 4,
 "nbformat_minor": 2
}
